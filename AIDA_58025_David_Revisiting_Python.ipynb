{
  "nbformat": 4,
  "nbformat_minor": 0,
  "metadata": {
    "colab": {
      "name": "AIDA 58025 David - Revisiting Python.ipynb",
      "provenance": [],
      "collapsed_sections": [],
      "authorship_tag": "ABX9TyPyYdhbOYPaMivLqCSt9Wct",
      "include_colab_link": true
    },
    "kernelspec": {
      "name": "python3",
      "display_name": "Python 3"
    }
  },
  "cells": [
    {
      "cell_type": "markdown",
      "metadata": {
        "id": "view-in-github",
        "colab_type": "text"
      },
      "source": [
        "<a href=\"https://colab.research.google.com/github/edmarkdavid10/AIDA1/blob/main/AIDA_58025_David_Revisiting_Python.ipynb\" target=\"_parent\"><img src=\"https://colab.research.google.com/assets/colab-badge.svg\" alt=\"Open In Colab\"/></a>"
      ]
    },
    {
      "cell_type": "markdown",
      "metadata": {
        "id": "Mln_SQ8D7WhK"
      },
      "source": [
        "#Revisiting Python\r\n",
        "© E.M. David (2021)\r\n",
        "\r\n",
        "This notebook discuess the basic and intermediate\r\n",
        "Python codding principles and coding design."
      ]
    },
    {
      "cell_type": "markdown",
      "metadata": {
        "id": "8weZkKtF8C_g"
      },
      "source": [
        "## Part 1: Programming Logic and Design\r\n",
        "\r\n",
        "In this section, we will revisit Programming Logic and Design using the Python Language\r\n",
        "\r\n",
        "Discussions about Python\r\n",
        "\r\n",
        "## 1.1 Variables and Printing Values"
      ]
    },
    {
      "cell_type": "code",
      "metadata": {
        "colab": {
          "base_uri": "https://localhost:8080/"
        },
        "id": "A75DeK7h5wPX",
        "outputId": "a84ef2e2-cf26-42c7-df99-1331caa5488c"
      },
      "source": [
        "# This is a C++ line of code\r\n",
        "# int x =2;\r\n",
        "#cout<<x;\r\n",
        "# Now this is a Python line of code\r\n",
        "x=2\r\n",
        "# print(x)\r\n",
        "# print(type(x))\r\n",
        "# print(\"The data type of x is\", type(x), \"and its value is\", x,\".\")\r\n",
        "# print(f\"The data type of x is {type(x)} and its value is {x}.\")\r\n",
        "print(\"The data type of x is {} and its value is {}.\".format(type(x),x))"
      ],
      "execution_count": null,
      "outputs": [
        {
          "output_type": "stream",
          "text": [
            "The data type of x is <class 'int'> and its value is 2.\n"
          ],
          "name": "stdout"
        }
      ]
    },
    {
      "cell_type": "markdown",
      "metadata": {
        "id": "H-dS-vA88GUv"
      },
      "source": [
        "## Part 2: Object-Oriented Programming"
      ]
    },
    {
      "cell_type": "code",
      "metadata": {
        "id": "Fp7P2RA98NAU"
      },
      "source": [
        ""
      ],
      "execution_count": null,
      "outputs": []
    },
    {
      "cell_type": "markdown",
      "metadata": {
        "id": "lKXX1NrF8NR4"
      },
      "source": [
        "## Part 3: Data Structures and Algorithms"
      ]
    }
  ]
}